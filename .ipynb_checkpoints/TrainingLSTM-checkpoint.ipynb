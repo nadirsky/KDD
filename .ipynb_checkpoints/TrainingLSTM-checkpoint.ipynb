{
 "cells": [
  {
   "cell_type": "code",
   "execution_count": 1,
   "metadata": {
    "collapsed": false
   },
   "outputs": [
    {
     "name": "stderr",
     "output_type": "stream",
     "text": [
      "Using TensorFlow backend.\n"
     ]
    }
   ],
   "source": [
    "from datetime import datetime\n",
    "import numpy as np\n",
    "from itertools import izip\n",
    "import pandas as pd\n",
    "import matplotlib.pyplot as plt\n",
    "import math\n",
    "from keras.models import Sequential\n",
    "from keras.layers import Dense\n",
    "from keras.layers import LSTM\n",
    "from sklearn.preprocessing import MinMaxScaler\n",
    "from sklearn.metrics import mean_squared_error\n",
    "\n",
    "# fix random seed for reproducibility\n",
    "np.random.seed(7)"
   ]
  },
  {
   "cell_type": "code",
   "execution_count": 2,
   "metadata": {
    "collapsed": true
   },
   "outputs": [],
   "source": [
    "# convert an array of values into a dataset matrix\n",
    "def create_dataset(dataset, look_back=1):\n",
    "    dataX, dataY = [], []\n",
    "    for i in range(len(dataset)-look_back-1):\n",
    "        a = dataset[i:(i+look_back)]\n",
    "        dataX.append(a)\n",
    "        dataY.append(dataset[i + look_back])\n",
    "    return np.array(dataX), np.array(dataY)"
   ]
  },
  {
   "cell_type": "code",
   "execution_count": null,
   "metadata": {
    "collapsed": false
   },
   "outputs": [],
   "source": [
    "\n",
    "    \n"
   ]
  },
  {
   "cell_type": "code",
   "execution_count": null,
   "metadata": {
    "collapsed": false,
    "scrolled": true
   },
   "outputs": [],
   "source": [
    "# create and fit the LSTM network\n",
    "def train_LSTM():\n",
    "\n",
    "    # load the dataset\n",
    "    dataset = np.asarray(y)\n",
    "    dataset = dataset.reshape(-1,1)\n",
    "    dataset = dataset.astype('float32')\n",
    "\n",
    "    # normalize the dataset\n",
    "    scaler = MinMaxScaler(feature_range=(0, 1))\n",
    "    dataset = scaler.fit_transform(dataset)\n",
    "    # split into train and test sets\n",
    "    train_size = int(len(dataset) * 0.8)\n",
    "    test_size = len(dataset) - train_size\n",
    "    train, test = dataset[0:train_size], dataset[train_size:len(dataset)]\n",
    "\n",
    "    # reshape into X=t and Y=t+1\n",
    "    trainX, trainY = create_dataset(train, look_back)\n",
    "    testX, testY = create_dataset(test, look_back)\n",
    "\n",
    "    # reshape input to be [samples, time steps, features]\n",
    "    trainX = np.reshape(trainX, (trainX.shape[0], trainX.shape[1], 1))\n",
    "    testX = np.reshape(testX, (testX.shape[0], testX.shape[1], 1))\n",
    "    \n",
    "    batch_size = 1\n",
    "    model = Sequential()\n",
    "    model.add(LSTM(4, batch_input_shape=(batch_size, look_back, 1), stateful=True, return_sequences=True))\n",
    "    model.add(LSTM(4, batch_input_shape=(batch_size, look_back, 1), stateful=True))\n",
    "    model.add(Dense(1))\n",
    "    model.compile(loss='mean_squared_error', optimizer='adam')\n",
    "    for i in range(200):\n",
    "        print i\n",
    "        model.fit(trainX, trainY, nb_epoch=1, batch_size=batch_size, verbose=2, shuffle=False)\n",
    "        model.reset_states()\n",
    "\n",
    "        # make predictions\n",
    "        trainPredict = model.predict(trainX, batch_size=batch_size)\n",
    "        model.reset_states()\n",
    "        testPredict = model.predict(testX, batch_size=batch_size)\n",
    "\n",
    "        #print(trainPredict.shape)\n",
    "        #print(testPredict.shape)\n",
    "\n",
    "        # invert predictions\n",
    "        trainPredict = scaler.inverse_transform(trainPredict)\n",
    "        trainY_print = scaler.inverse_transform(trainY)\n",
    "        testPredict = scaler.inverse_transform(testPredict)\n",
    "        testY_print = scaler.inverse_transform(testY)\n",
    "        trainScore = math.sqrt(mean_squared_error(trainY_print, trainPredict[:,0]))\n",
    "        print('Train Score: %.2f RMSE' % (trainScore))\n",
    "        testScore = math.sqrt(mean_squared_error(testY_print, testPredict[:,0]))\n",
    "        print('Test Score: %.2f RMSE' % (testScore))\n",
    "\n",
    "        plt.plot(testY_print)\n",
    "        plt.plot(testPredict[:,0])\n",
    "        plt.show()\n",
    "        \n",
    "    return model\n",
    "\n",
    "    #model.load_weights(path, by_name=True)\n",
    "    # model = load_model(path)\n",
    "    #callbacks=[tensorboard, EpochEndCallback()]\n",
    "    \n",
    "    "
   ]
  },
  {
   "cell_type": "code",
   "execution_count": null,
   "metadata": {
    "collapsed": false,
    "scrolled": false
   },
   "outputs": [
    {
     "name": "stdout",
     "output_type": "stream",
     "text": [
      "(5965,)\n",
      "(15291,)\n",
      "(15291,)\n"
     ]
    },
    {
     "data": {
      "image/png": "[encoded data removed]",
      "text/plain": [
       "<matplotlib.figure.Figure at 0x7fb155514dd0>"
      ]
     },
     "metadata": {},
     "output_type": "display_data"
    }
   ],
   "source": [
    "# Data preparations\n",
    "\n",
    "volume = pd.read_csv('scripts/training_20min_avg_travel_time.csv', index_col=[0,1], header=0, engine='python')\n",
    "\n",
    "routes = [('A',2),('A',3),('B',1),('B',3),('C',1),('C',3)]\n",
    "\n",
    "# print(((volume.loc['B']).loc[3]))\n",
    "\n",
    "\n",
    "for intersection, tollgate in routes:\n",
    "    ax = plt.subplot(111)\n",
    "    ax.set_xlim([229,230]) \n",
    "    plt.title(intersection + \"-\" + str(tollgate) + \" \" + volume.columns.values[0])\n",
    "    \n",
    "    windows = ((volume.loc[intersection]).loc[tollgate].values[:,0])\n",
    "    periods = np.array(((volume.loc[intersection]).loc[tollgate]).values[:,1])\n",
    "    \n",
    "    periods.shape\n",
    "    \n",
    "    print periods.shape\n",
    "    x = []\n",
    "    y = []\n",
    "    window0 = 0\n",
    "    for window, period in izip(windows, periods):\n",
    "        window = window.split(',')[0].replace('[', '')\n",
    "        window = datetime.strptime(window, \"%Y-%m-%d %H:%M:%S\")\n",
    "        window = window.month*30 + window.day + window.hour/24. + (window.minute+10)/3600.\n",
    "        if window0 == 0:\n",
    "            window0 = window\n",
    "        for i in xrange( int((window - window0) * 180) - 1):\n",
    "            x.append(x[-1]+1./180.)\n",
    "            y.append(y[-1])\n",
    "        else:\n",
    "            x.append(window)\n",
    "            y.append(period)\n",
    "            window0 = window\n",
    "            \n",
    "    x = np.asarray(x)\n",
    "    y = np.asarray(y)\n",
    "\n",
    "    print x.shape\n",
    "    print y.shape    \n",
    "        \n",
    "    plt.plot(x,y)\n",
    "    plt.show()\n",
    "    \n",
    "    look_back = 3\n",
    "    \n",
    "    model = train_LSTM()\n",
    "    model.save(\"models/\" + str(intersection) + str(tollgate) + \"_\" + datetime.now().isoformat('_')  +'.h5')\n",
    "    \n"
   ]
  },
  {
   "cell_type": "markdown",
   "metadata": {},
   "source": [
    "model.add(LSTM(4, batch_input_shape=(batch_size, look_back, 1), stateful=True))\n",
    "model.add(Dense(1))\n",
    "model.compile(loss='mean_squared_error', optimizer='adam')\n",
    "\n",
    "499\n",
    "Epoch 1/1\n",
    "41s - loss: 7.4041e-04\n",
    "Train Score: 22.83 RMSE\n",
    "Test Score: 15.15 RMSE\n",
    "\n",
    "----------------------"
   ]
  }
 ],
 "metadata": {
  "kernelspec": {
   "display_name": "Python 2",
   "language": "python",
   "name": "python2"
  },
  "language_info": {
   "codemirror_mode": {
    "name": "ipython",
    "version": 2
   },
   "file_extension": ".py",
   "mimetype": "text/x-python",
   "name": "python",
   "nbconvert_exporter": "python",
   "pygments_lexer": "ipython2",
   "version": "2.7.13"
  }
 },
 "nbformat": 4,
 "nbformat_minor": 2
}
